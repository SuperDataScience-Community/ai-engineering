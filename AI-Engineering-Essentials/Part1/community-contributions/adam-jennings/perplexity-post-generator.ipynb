{
 "cells": [
  {
   "cell_type": "markdown",
   "id": "632def72",
   "metadata": {},
   "source": [
    "### **Your Challenge: Build your own post generator!!!**\n",
    "\n",
    "**Instructions**\n",
    "1. Choose a topic you are personally interested in (sports, fashion, space, finance)\n",
    "2. Use web search from any of the other tools we spoke about before to search the web (Tavily, Perplexity, SerpAPI, Search API)\n",
    "3. Place your contributions in the community-contributions folder.\n",
    "4. Bonus: Post about your project on LinkedIn and tag the [SuperDataScience Community Projects](https://www.linkedin.com/showcase/superdatascience-community-projects/?viewAsMember=true) page for a chance to have your post shared to the SDS LinkedIn community. "
   ]
  },
  {
   "cell_type": "markdown",
   "id": "352bb2ad",
   "metadata": {},
   "source": [
    "### Step 1: Import libraries and API Keys"
   ]
  },
  {
   "cell_type": "code",
   "execution_count": null,
   "id": "dadf24fe",
   "metadata": {},
   "outputs": [],
   "source": [
    "import os\n",
    "from openai import OpenAI\n",
    "from dotenv import load_dotenv\n",
    "from IPython.display import Markdown, display\n",
    "\n",
    "load_dotenv()\n",
    "# NOTE: Set your Perplexity API key in the environment variable PPLX_API_KEY\n",
    "PPLX_API_KEY = os.getenv(\"PPLX_API_KEY\")\n",
    "\n",
    "if PPLX_API_KEY is None:\n",
    "    raise Exception(\"API key is missing\")"
   ]
  },
  {
   "cell_type": "markdown",
   "id": "36de4774",
   "metadata": {},
   "source": [
    "### Step 2: Searching the web"
   ]
  },
  {
   "cell_type": "code",
   "execution_count": null,
   "id": "5cdc0c6e",
   "metadata": {},
   "outputs": [],
   "source": [
    "client = OpenAI(api_key=PPLX_API_KEY, base_url=\"https://api.perplexity.ai\")\n",
    "\n",
    "response = client.chat.completions.create(\n",
    "    model=\"sonar-pro\",  # Or another available Perplexity model like \"sonar-small-online\"\n",
    "    messages=[\n",
    "        {\"role\": \"system\", \"content\": \"You are a helpful assistant. Do not make up any information. Source everything you say.\"},\n",
    "        {\"role\": \"user\", \"content\": \"What are some of the best AI conferences in the United States the remainder of 2025?\"}\n",
    "    ],\n",
    "    extra_body={\n",
    "        \"search_recency_filter\": \"month\"  # Options: \"day\", \"week\", \"month\", \"year\", \"all\"\n",
    "    }\n",
    ")\n"
   ]
  },
  {
   "cell_type": "code",
   "execution_count": null,
   "id": "6d83f568",
   "metadata": {},
   "outputs": [],
   "source": [
    "search_results = response.choices[0].message.content\n",
    "\n",
    "display(Markdown(search_results))"
   ]
  },
  {
   "cell_type": "markdown",
   "id": "3d9775c9",
   "metadata": {},
   "source": [
    "### Step 3: Summarize and write a social media post"
   ]
  },
  {
   "cell_type": "code",
   "execution_count": null,
   "id": "7be71845",
   "metadata": {},
   "outputs": [],
   "source": [
    "system_message = \"\"\"\n",
    "You are a helpful assistant whos job is to accurately summarize long series of \n",
    "news articles provided to you by the user and write up a compelling and easy to \n",
    "digest social media post.\n",
    "\"\"\"\n",
    "\n",
    "prompt = f\"\"\"\n",
    "The following is a series of news articles on the field of AI. Please summarize\n",
    "the articles and write a compelling social media post for LinkedIn highlighting why AI practitioners should attend these conferences.\n",
    "\n",
    "Provide key points about each article.\n",
    "\n",
    "The post should be short and concise and should not be more than 1000 words.\n",
    "\n",
    "{search_results}\n",
    "\n",
    "\"\"\"\n",
    "# Use the openAI Python SDK to call the Perplexity API\n",
    "# https://docs.perplexity.ai/guides/chat-completions-guide\n",
    "\n",
    "completion = client.chat.completions.create(\n",
    "    model=\"sonar-pro\",\n",
    "    messages=[\n",
    "        {\"role\": \"system\", \"content\": system_message},\n",
    "        {\"role\": \"user\", \"content\": prompt}\n",
    "    ],\n",
    "    max_tokens=1000\n",
    ")\n",
    "\n",
    "chat_response = completion.choices[0].message.content\n",
    "\n",
    "print(chat_response)"
   ]
  },
  {
   "cell_type": "code",
   "execution_count": null,
   "id": "aef1ea69",
   "metadata": {},
   "outputs": [],
   "source": []
  }
 ],
 "metadata": {
  "kernelspec": {
   "display_name": "sds_env",
   "language": "python",
   "name": "python3"
  },
  "language_info": {
   "codemirror_mode": {
    "name": "ipython",
    "version": 3
   },
   "file_extension": ".py",
   "mimetype": "text/x-python",
   "name": "python",
   "nbconvert_exporter": "python",
   "pygments_lexer": "ipython3",
   "version": "3.13.7"
  }
 },
 "nbformat": 4,
 "nbformat_minor": 5
}
