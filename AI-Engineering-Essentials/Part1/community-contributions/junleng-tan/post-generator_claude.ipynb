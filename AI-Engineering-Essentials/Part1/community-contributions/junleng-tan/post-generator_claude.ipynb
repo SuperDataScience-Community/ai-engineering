{
 "cells": [
  {
   "cell_type": "markdown",
   "metadata": {},
   "source": [
    "### Step 1: Import Libraries and API Keys"
   ]
  },
  {
   "cell_type": "code",
   "execution_count": 1,
   "metadata": {},
   "outputs": [],
   "source": [
    "import os\n",
    "from openai import OpenAI\n",
    "from dotenv import load_dotenv\n",
    "from IPython.display import Markdown, display\n",
    "\n",
    "load_dotenv()\n",
    "\n",
    "OPENAI_API_KEY = os.getenv(\"OPENAI_API_KEY\")\n",
    "\n",
    "if OPENAI_API_KEY is None:\n",
    "    raise Exception(\"API key is missing\")"
   ]
  },
  {
   "cell_type": "markdown",
   "metadata": {},
   "source": [
    "### Step 2: Searching the web"
   ]
  },
  {
   "cell_type": "code",
   "execution_count": 3,
   "metadata": {},
   "outputs": [],
   "source": [
    "client = OpenAI()\n",
    "\n",
    "completion = client.chat.completions.create(\n",
    "    model=\"gpt-4o-mini-search-preview\", # doesn't take temperature param\n",
    "    messages=[\n",
    "        {\"role\": \"user\", \"content\": \"What are the latest AI conferences happening in Dubai?\"}\n",
    "    ],\n",
    "    max_tokens=500\n",
    ")"
   ]
  },
  {
   "cell_type": "code",
   "execution_count": 4,
   "metadata": {},
   "outputs": [
    {
     "data": {
      "text/markdown": [
       "As of September 24, 2025, several AI conferences are scheduled to take place in Dubai. Here are some notable events:\n",
       "\n",
       "\n",
       "\n",
       "**AI Education Forum 2025**  \n",
       "**Dates:** November 19–20, 2025\n",
       "**Location:** Dubai Knowledge Park, UAE\n",
       "**Overview:** This annual conference focuses on practical AI integration in education, featuring keynotes, workshops, and exhibitions aimed at transforming teaching and learning through AI. ([aiedforum.com](https://aiedforum.com/aiedforum2025/?utm_source=openai))\n",
       "\n",
       "\n",
       "\n",
       "\n",
       "**World AI Technology Expo 2025**  \n",
       "**Dates:** November 21–22, 2025\n",
       "**Location:** Mövenpick Grand Al Bustan, Dubai, UAE\n",
       "**Overview:** A comprehensive AI exhibition and seminar, this expo brings together AI leaders to explore advancements in deep learning, AI ethics, natural language processing, and more. ([clocate.com](https://www.clocate.com/world-ai-technology-expo/104145/?utm_source=openai))\n",
       "\n",
       "\n",
       "\n",
       "\n",
       "**Global AI Show**  \n",
       "**Dates:** December 15–16, 2025\n",
       "**Location:** Dubai, United Arab Emirates\n",
       "**Overview:** This event gathers global AI leaders, investors, and innovators to discuss the future of intelligent technology and explore the latest AI trends and innovations. ([clocate.com](https://www.clocate.com/global-ai-show/103134/?utm_source=openai))\n",
       "\n",
       "\n",
       "\n",
       "\n",
       "**FUELD Conference**  \n",
       "**Dates:** Dates to be announced\n",
       "**Location:** Dubai, UAE\n",
       "**Overview:** FUELD is a premier AI conference that brings together visionaries, builders, and leaders to discuss how AI is transforming industries and shaping the future. ([fueldconf.com](https://www.fueldconf.com/?utm_source=openai))\n",
       "\n",
       "\n",
       "\n",
       "\n",
       "**AgentCon 2025**  \n",
       "**Dates:** June 21, 2025\n",
       "**Location:** Dubai Future Foundation, Emirates Towers, Dubai, UAE\n",
       "**Overview:** Part of the AI Agents World Tour, this conference focuses on AI agent design, deployment, and integration, featuring talks, workshops, and live demos. ([globalai.community](https://globalai.community/chapters/dubai/events/agentcon-2025-dubai/?utm_source=openai))\n",
       "\n",
       "\n",
       "Please note that event details are subject to change. It's advisable to visit the official websites of these conferences for the most up-to-date information and registration details. "
      ],
      "text/plain": [
       "<IPython.core.display.Markdown object>"
      ]
     },
     "metadata": {},
     "output_type": "display_data"
    }
   ],
   "source": [
    "search_results = completion.choices[0].message.content\n",
    "\n",
    "display(Markdown(search_results))"
   ]
  },
  {
   "cell_type": "markdown",
   "metadata": {},
   "source": [
    "### Step 3: Summarize and write a social media post"
   ]
  },
  {
   "cell_type": "code",
   "execution_count": 5,
   "metadata": {},
   "outputs": [
    {
     "name": "stdout",
     "output_type": "stream",
     "text": [
      "Exciting times ahead for the AI community in Dubai! 🚀 Mark your calendars for a series of impactful conferences in late 2025:\n",
      "\n",
      "1. **AI Education Forum** (Nov 19-20) - Discover how AI can revolutionize education.\n",
      "2. **World AI Technology Expo** (Nov 21-22) - Dive into deep learning and AI ethics with industry leaders.\n",
      "3. **Global AI Show** (Dec 15-16) - Network with innovators shaping the future of intelligent tech.\n",
      "4. **FUELD Conference** - Dates TBA, a must for visionaries in AI.\n",
      "5. **AgentCon 2025** (Jun 21) - Focus on AI agent design and deployment.\n",
      "\n",
      "Stay tuned for updates! 🌐 #ArtificialIntelligence #AIConferences #DubaiAI\n"
     ]
    }
   ],
   "source": [
    "system_message = \"\"\"\n",
    "You are a helpful assistant whos job is to accurately summarize long series of \n",
    "news articles provided to you by the user and write up a compelling and easy to \n",
    "digest social media post.\n",
    "\"\"\"\n",
    "\n",
    "prompt = f\"\"\"\n",
    "The following is a series of news articles on the field of AI. Please summarize\n",
    "the articles and write a compelling social media post for LinkedIn highlighting\n",
    "key points about each article.\n",
    "\n",
    "The post should be short and concise and should not be more than 100 words.\n",
    "\n",
    "{search_results}\n",
    "\n",
    "\"\"\"\n",
    "\n",
    "completion = client.chat.completions.create(\n",
    "    model=\"gpt-4o-mini\",\n",
    "    messages=[\n",
    "        {\"role\": \"system\", \"content\": system_message},\n",
    "        {\"role\": \"user\", \"content\": prompt}\n",
    "    ],\n",
    "    max_tokens=500\n",
    ")\n",
    "\n",
    "chat_response = completion.choices[0].message.content\n",
    "\n",
    "print(chat_response)"
   ]
  },
  {
   "cell_type": "markdown",
   "metadata": {},
   "source": [
    "### **Your Challenge: Build your own post generator!!!**\n",
    "\n",
    "**Instructions**\n",
    "1. Choose a topic you are personally interested in (sports, fashion, space, finance)\n",
    "2. Use web search from any of the other tools we spoke about before to search the web (Tavily, Perplexity, SerpAPI, Search API)\n",
    "3. Place your contributions in the community-contributions folder.\n",
    "4. Bonus: Post about your project on LinkedIn and tag the [SuperDataScience Community Projects](https://www.linkedin.com/showcase/superdatascience-community-projects/?viewAsMember=true) page for a chance to have your post shared to the SDS LinkedIn community. "
   ]
  },
  {
   "cell_type": "code",
   "execution_count": 14,
   "metadata": {},
   "outputs": [],
   "source": [
    "# search Tavily API for latest finance news\n",
    "# summarize the articles\n",
    "# generate a social media post\n",
    "\n",
    "import os\n",
    "import requests\n",
    "\n",
    "load_dotenv() #load the .env file\n",
    "\n",
    "TAVILY_KEY = os.getenv(\"TAVILY_KEY\")\n",
    "BASE = \"https://api.tavily.com\"\n",
    "\n",
    "def search_finance_news():\n",
    "    url = f\"{BASE}/search\"\n",
    "    headers = {\"Authorization\": f\"Bearer {TAVILY_KEY}\"  }\n",
    "    body = {\n",
    "        \"query\": \"latest finance news\",\n",
    "        \"auto_parameters\": True,\n",
    "        \"max_results\": 5\n",
    "    }\n",
    "    \n",
    "    response = requests.post(url, json=body, headers=headers, timeout=20)\n",
    "    response.raise_for_status()\n",
    "    return response.json()\n",
    "# print(f\"tavily{TAVILY_KEY}\")"
   ]
  },
  {
   "cell_type": "code",
   "execution_count": null,
   "metadata": {},
   "outputs": [],
   "source": [
    "#option 1: simple summarize function\n",
    "\n",
    "def summarize_articles(articles):\n",
    "      summaries = []\n",
    "      for article in articles.get(\"results\", []):\n",
    "          title = article.get(\"title\", \"No Title\")\n",
    "          snippet = article.get(\"content\", \"No Snippet\")[:300]  # Limit snippet to first 300 characters\n",
    "          summaries.append(f\"**{title}**\\n{snippet}...\\n\")\n",
    "      return summaries\n",
    "            \n"
   ]
  },
  {
   "cell_type": "code",
   "execution_count": 16,
   "metadata": {},
   "outputs": [
    {
     "data": {
      "text/markdown": [
       "**NFL wants to accelerate TV rights renegotiations to as early as next year, Roger Goodell says - CNBC**\n",
       "Markets * Pre-Markets * U.S. Markets * Funds & ETFs Business * Finance * Small Business Investing * Personal Finance * ETF Street Tech * Social Media * CNBC Disruptor 50 * Tech Guide Video * Latest Video * CNBC Podcasts * CNBC Documentaries * Trust Portfolio * Pro News * My Portfolio * Stock Screene...\n"
      ],
      "text/plain": [
       "<IPython.core.display.Markdown object>"
      ]
     },
     "metadata": {},
     "output_type": "display_data"
    },
    {
     "data": {
      "text/markdown": [
       "**SEB's Sustainable Finance Outlook September 2025: Funding Net-Zero Pathways - TradingView**\n",
       "# SEB's Sustainable Finance Outlook September 2025: Funding Net-Zero Pathways The latest issue of SEB’s Sustainable Finance Outlook presents innovative methods to assess and finance industrial decarbonisation. “Companies are facing increasing technological and economics challenges to decarbonize whi...\n"
      ],
      "text/plain": [
       "<IPython.core.display.Markdown object>"
      ]
     },
     "metadata": {},
     "output_type": "display_data"
    },
    {
     "data": {
      "text/markdown": [
       "**The U.S. is now seeing the reality in Ukraine, Hensoldt CFO says - CNBC**\n",
       "Markets * Pre-Markets * U.S. Markets * Funds & ETFs Business * Finance * Media * Small Business Investing * Personal Finance * ETF Street Tech * Media * Social Media * CNBC Disruptor 50 * Tech Guide Video * Latest Video * Live Audio * Live TV Schedule * CNBC Podcasts * CNBC Documentaries Investing C...\n"
      ],
      "text/plain": [
       "<IPython.core.display.Markdown object>"
      ]
     },
     "metadata": {},
     "output_type": "display_data"
    },
    {
     "data": {
      "text/markdown": [
       "**Swan Bitcoin CEO calls $1.8B crypto wipeout ‘not a big deal,’ reiterates $1M price target - KITCO**\n",
       "Kitco NEWS has a diverse team of journalists reporting on the economy, stock markets, commodities, cryptocurrencies, mining and metals with accuracy and objectivity. Jeremy Szafron joins Kitco News as an anchor and producer from Kitco’s Vancouver bureau. Jeremy began his career in 2006 as a Journali...\n"
      ],
      "text/plain": [
       "<IPython.core.display.Markdown object>"
      ]
     },
     "metadata": {},
     "output_type": "display_data"
    },
    {
     "data": {
      "text/markdown": [
       "**Swan Bitcoin CEO calls $1.8B crypto wipeout ‘not a big deal,’ reiterates $1M price target - Kitco.com**\n",
       "Kitco NEWS has a diverse team of journalists reporting on the economy, stock markets, commodities, cryptocurrencies, mining and metals with accuracy and objectivity. Jeremy Szafron joins Kitco News as an anchor and producer from Kitco’s Vancouver bureau. Jeremy began his career in 2006 as a Journali...\n"
      ],
      "text/plain": [
       "<IPython.core.display.Markdown object>"
      ]
     },
     "metadata": {},
     "output_type": "display_data"
    }
   ],
   "source": [
    "response = search_finance_news()\n",
    "summaries = summarize_articles(response)\n",
    "for summary in summaries:\n",
    "    display(Markdown(summary))\n"
   ]
  },
  {
   "cell_type": "code",
   "execution_count": 34,
   "metadata": {},
   "outputs": [
    {
     "name": "stdout",
     "output_type": "stream",
     "text": [
      "📰 FINANCE FLASH: NFL's Goodell pushes for early TV rights talks, while SEB releases innovative net-zero financing strategies. Meanwhile, U.S. shifts perspective on Ukraine conflict according to Hensoldt CFO. In crypto news, Swan Bitcoin's CEO downplays recent $1.8B market wipeout as \"not a big deal\" and maintains ambitious $1M Bitcoin price target. Financial markets continue evolving across traditional and digital sectors. #FinanceUpdate #NFLBusiness #CryptoMarkets\n"
     ]
    }
   ],
   "source": [
    "# option 2: use Claude to summarize the articles\n",
    "\n",
    "from anthropic import Anthropic, HUMAN_PROMPT, AI_PROMPT\n",
    "\n",
    "CLAUDE_KEY = os.getenv(\"ANTHROPIC_API_KEY\")\n",
    "client = Anthropic()\n",
    "\n",
    "def generate_social_post(summaries):\n",
    "    system_message = f\"You are a helpful assistant whos job is to accurately summarize long series of news articles provided to you by the user and write up a compelling and easy to digest social media post. The post should be short and concise and should not be more than 100 words.\"\n",
    "    prompt = \"\\n\\n\".join(summaries)\n",
    "    \n",
    "\n",
    "    response = client.messages.create(\n",
    "        model =\"claude-3-7-sonnet-latest\",\n",
    "        system=system_message,\n",
    "        messages=[ {\"role\": \"user\", \"content\": prompt} ],\n",
    "        max_tokens=500\n",
    "        )\n",
    "    return response.content[0].text\n",
    "summary_claude = generate_social_post(summaries)\n",
    "print(summary_claude)"
   ]
  },
  {
   "cell_type": "code",
   "execution_count": null,
   "metadata": {},
   "outputs": [],
   "source": [
    "# option 3: use GPT-4o to summarize the articles\n",
    "\n",
    "def summarize_articles_llm(articles):\n",
    "    system_message = \"\"\"\n",
    "    You are a helpful assistant whos job is to accurately summarize long series of \n",
    "    news articles provided to you by the user and write up a compelling and easy to \n",
    "    digest social media post.\n",
    "    \"\"\"\n",
    "\n",
    "    article_texts = \"\\n\\n\".join([f\"Title: {article['title']}\\nContent: {article['content']}\" for article in articles])\n",
    "    \n",
    "    prompt = f\"\"\"\n",
    "    The following is a series of news articles on the field of finance. Please summarize\n",
    "    the articles and write a compelling social media post for LinkedIn highlighting\n",
    "    key points about each article.\n",
    "\n",
    "    The post should be short and concise and should not be more than 100 words.\n",
    "\n",
    "    {article_texts}\n",
    "    \"\"\"\n",
    "\n",
    "    completion = client.chat.completions.create(\n",
    "        model=\"gpt-4o-mini\",\n",
    "        messages=[\n",
    "            {\"role\": \"system\", \"content\": system_message},\n",
    "            {\"role\": \"user\", \"content\": prompt}\n",
    "        ],\n",
    "        max_tokens=500\n",
    "    )\n",
    "\n",
    "    return completion.choices[0].message.content"
   ]
  },
  {
   "cell_type": "code",
   "execution_count": 18,
   "metadata": {},
   "outputs": [
    {
     "name": "stdout",
     "output_type": "stream",
     "text": [
      "🚀 Exciting updates in the finance world! \n",
      "\n",
      "1️⃣ The NFL is poised for early TV rights renegotiations, as Roger Goodell signals a new strategy. 📺\n",
      "\n",
      "2️⃣ SEB’s latest report highlights the need for innovative funding in the sustainable finance sector, despite challenges, with $1.45tn issued in 2025. 🌍💰\n",
      "\n",
      "3️⃣ Hensoldt's CFO emphasizes the shifting perception of the U.S. regarding the European defense landscape amid the ongoing Ukraine conflict. 🛡️\n",
      "\n",
      "4️⃣ Swan Bitcoin's CEO stands firm on a $1M price target for crypto despite a recent $1.8B market dip, calling it a minor setback. 📈💸 \n",
      "\n",
      "Stay informed and invest wisely! #Finance #SustainableInvesting #Crypto #NFL\n"
     ]
    }
   ],
   "source": [
    "summary_llm = summarize_articles_llm(response.get(\"results\", []))\n",
    "print(summary_llm)"
   ]
  }
 ],
 "metadata": {
  "kernelspec": {
   "display_name": "ai_env",
   "language": "python",
   "name": "python3"
  },
  "language_info": {
   "codemirror_mode": {
    "name": "ipython",
    "version": 3
   },
   "file_extension": ".py",
   "mimetype": "text/x-python",
   "name": "python",
   "nbconvert_exporter": "python",
   "pygments_lexer": "ipython3",
   "version": "3.12.3"
  }
 },
 "nbformat": 4,
 "nbformat_minor": 2
}
