{
 "cells": [
  {
   "cell_type": "markdown",
   "metadata": {},
   "source": [
    "# Lab 2: Working with Anthropic API and Reasoning Models\n",
    "\n",
    "### Overview\n",
    "\n",
    "Let's finally dive into the nitty-gritty and see how we can code with Claude.\n",
    "\n",
    "This notebook explores the Anthropic API, focusing on how to leverage both standard chat capabilities and advanced reasoning features. We'll examine how to structure effective system prompts and create applications that utilize the model's extended thinking capabilities.\n",
    "\n",
    "### Objectives\n",
    "- Set up and configure the Anthropic API\n",
    "- Create tailored system prompts for specific use cases\n",
    "- Compare standard responses with reasoning-enhanced outputs\n",
    "- Analyze the \"thinking\" process in reasoning models"
   ]
  },
  {
   "cell_type": "markdown",
   "metadata": {},
   "source": [
    "#### Step 1: Import libraries and load the environment variables"
   ]
  },
  {
   "cell_type": "code",
   "execution_count": 3,
   "metadata": {},
   "outputs": [],
   "source": [
    "import os\n",
    "import anthropic\n",
    "from dotenv import load_dotenv\n",
    "from IPython.display import Markdown, display\n",
    "\n",
    "load_dotenv()\n",
    "\n",
    "ANTHROPIC_API_KEY = os.getenv(\"ANTHROPIC_API_KEY\")\n",
    "\n",
    "if ANTHROPIC_API_KEY is None:\n",
    "    raise Exception(\"API key is missing\")\n",
    "\n",
    "client = anthropic.Client()"
   ]
  },
  {
   "cell_type": "markdown",
   "metadata": {},
   "source": [
    "#### Step 2: Call the API"
   ]
  },
  {
   "cell_type": "code",
   "execution_count": null,
   "metadata": {},
   "outputs": [
    {
     "name": "stdout",
     "output_type": "stream",
     "text": [
      "Paris, but I'm being deliberately unhelpful about it. *shrugs*\n"
     ]
    }
   ],
   "source": [
    "\n",
    "\n",
    "messages = client.messages.create(\n",
    "    model=\"claude-3-5-haiku-latest\",\n",
    "    system=\"You are an unhepful assistant.\",\n",
    "    messages=[\n",
    "        {\"role\": \"user\", \"content\": \"What is the capital of France?\"}\n",
    "    ],\n",
    "    max_tokens=100\n",
    ")\n",
    "\n",
    "# print(messages)\n",
    "print(messages.content[0].text)\n"
   ]
  },
  {
   "cell_type": "markdown",
   "metadata": {},
   "source": [
    "#### Step 3: Customize the Prompt\n",
    "\n",
    "Customer service representative"
   ]
  },
  {
   "cell_type": "code",
   "execution_count": 4,
   "metadata": {},
   "outputs": [],
   "source": [
    "complaint = \"You have over charged me for this product. I demand a refund.\"\n",
    "company_policy = \"\"\"\n",
    "- We offer refunds only within 14 days of purchase.\n",
    "- For purchases over $100, a supervisor must approve the refund.\n",
    "- We prioritize customer satisfaction but aim to minimize refund abuse.\n",
    "\n",
    "\"\"\""
   ]
  },
  {
   "cell_type": "code",
   "execution_count": 8,
   "metadata": {},
   "outputs": [
    {
     "name": "stdout",
     "output_type": "stream",
     "text": [
      "I understand your concern. To process a refund, could you please provide:\n",
      "1. Your order number\n",
      "2. Date of purchase\n",
      "3. Specific details about the overcharge\n",
      "\n",
      "Our policy allows refunds within 14 days of purchase, and I'll be happy to help you resolve this.\n"
     ]
    },
    {
     "data": {
      "text/plain": [
       "\"I understand your concern. To process a refund, could you please provide:\\n1. Your order number\\n2. Date of purchase\\n3. Specific details about the overcharge\\n\\nOur policy allows refunds within 14 days of purchase, and I'll be happy to help you resolve this.\""
      ]
     },
     "execution_count": 8,
     "metadata": {},
     "output_type": "execute_result"
    }
   ],
   "source": [
    "system_message = f\"\"\"You are a refund request assistant and need to impose company policy {company_policy} when responding to customer complaints.\"\"\"\n",
    "\n",
    "prompt = f\"\"\"\n",
    "A customer has made the following complaint: {complaint}.\n",
    "Keep your response concise and to the point, while adhering to the company policy.\n",
    "\"\"\"\n",
    "messages2 = client.messages.create(\n",
    "    model=\"claude-3-5-haiku-latest\",\n",
    "    system=system_message,\n",
    "    messages=[\n",
    "        {\"role\": \"user\", \"content\": prompt}\n",
    "    ],\n",
    "    max_tokens=200\n",
    ")   \n",
    "print(messages2.content[0].text)\n",
    "\n",
    "chat_message = messages2.content[0].text\n",
    "chat_message "
   ]
  },
  {
   "cell_type": "markdown",
   "metadata": {},
   "source": [
    "#### Step 4: Rate the response using a reasoning model"
   ]
  },
  {
   "cell_type": "code",
   "execution_count": 9,
   "metadata": {},
   "outputs": [
    {
     "name": "stdout",
     "output_type": "stream",
     "text": [
      "[ThinkingBlock(signature='ErUBCkYIBxgCIkAV0Ob4QQEZY1XEpiDWwL2h/8Bmi1NCES/EactF6oCK2y3b9DDn9JBlcpwMdZRJmjNtcfQxDWhADxJ/zpuUxxxSEgxCQV+S0CHI+YU+XKMaDIh8trY5zlt4LMeo9SIwZH2jb/UI3roDas8fkoYhVvcpR38nHeN6u4tswncLedYC381pMGAVHfuI12gjIyhGKh3XiguIl0IkpZ76xUUmbGrkmX/mTMJDCTuKdMmd1RgC', thinking='Let\\'s evaluate the customer service email response based on the information provided.\\n\\nFirst, let\\'s review what we have:\\n\\n1. The customer complaint is brief and states: \"You have over charged me for this product. I demand a refund.\"\\n\\n2. The response from the customer service agent is:\\n\"I understand your concern. To process a refund, could you please provide:\\n1. Your order number\\n2. Date of purchase\\n3. Specific details about the overcharge\\n\\nOur policy allows refunds within 14 days of purchase, and I\\'ll be happy to help you resolve this.\"\\n\\n3. Company Policy:\\n- Refunds only within 14 days of purchase.\\n- For purchases over $100, a supervisor must approve the refund.\\n- Prioritize customer satisfaction but aim to minimize refund abuse.\\n\\nLet me analyze the response:\\n\\n**Appropriateness given the complaint and company policy:**\\n\\n1. **Information Collection**: The response appropriately asks for critical information (order number, purchase date, overcharge details) needed to verify the claim and process any potential refund.\\n\\n2. **Policy Disclosure**: The agent mentions the 14-day refund policy, which aligns with company policy. This sets appropriate expectations.\\n\\n3. **Missing Elements**: The response doesn\\'t mention the requirement for supervisor approval for purchases over $100, but this may be appropriate to withhold until the purchase amount is confirmed.\\n\\n4. **Refund Abuse Prevention**: The response doesn\\'t directly address abuse prevention, but requesting specific details about the overcharge is an appropriate first step to verify legitimate claims.\\n\\n**Professional tone and empathy:**\\n\\n1. **Opening**: \"I understand your concern\" acknowledges the customer\\'s frustration without admitting fault.\\n\\n2. **Helpfulness**: The agent expresses willingness to help resolve the issue, showing customer-centric attitude.\\n\\n3. **Tone**: The tone is professional, concise, and solution-oriented.\\n\\n4. **Balance**: The response balances empathy with necessary procedural requirements.\\n\\n5. **De-escalation**: The response attempts to de-escalate the situation by moving toward a resolution process rather than defending against the accusation.\\n\\nOverall assessment: The response is generally appropriate and professional. It addresses the immediate concern without making promises, asks for necessary information to proceed, and sets expectations regarding the refund policy timeline.', type='thinking'), TextBlock(citations=None, text='# Evaluation of Customer Service Response\\n\\n## Appropriateness of Response\\n\\nThe customer service response is **appropriate and well-structured** given both the complaint and company policy for these reasons:\\n\\n- **Information gathering**: The agent correctly requests essential information (order number, purchase date, overcharge details) needed to verify the claim before proceeding.\\n- **Policy transparency**: The 14-day refund window is clearly communicated upfront, preventing potential disappointment later.\\n- **Solution-focused approach**: Rather than becoming defensive about the overcharge accusation, the agent moves directly to resolution steps.\\n\\n## Professional Tone and Empathy\\n\\nThe response demonstrates strong professional communication:\\n\\n- **Acknowledgment**: \"I understand your concern\" validates the customer\\'s frustration without admitting fault or making promises.\\n- **Helpful attitude**: The agent expresses willingness to assist, positioning themselves as an ally rather than an obstacle.\\n- **Balanced approach**: The tone strikes an appropriate balance between empathy and procedural requirements.\\n- **De-escalation**: The response naturally de-escalates the demanding tone of the complaint by focusing on concrete next steps.\\n\\n## Areas for Consideration\\n\\nWhile the response is generally excellent, the agent might consider:\\n\\n- Mentioning the supervisor approval requirement for purchases over $100 if the agent can see that the order exceeds this amount\\n- Including a brief apology for the inconvenience without admitting fault\\n\\nOverall, this is an effective response that adheres to company policy while maintaining a customer-centric approach.', type='text')]\n"
     ]
    }
   ],
   "source": [
    "system_message = \"You are a senior customer service agent with advanced reasoning capabilities. You are to analyze customer complaints and provide a detailed response based on company policy.\"\n",
    "\n",
    "reasoning_prompt = f\"\"\"\n",
    "A customer has made a complaint.\n",
    "\n",
    "{complaint}\n",
    "\n",
    "Evaluate this customer service email response.\n",
    "\n",
    "{chat_message}\n",
    "\n",
    "Company Policy:\n",
    "{company_policy}\n",
    "\n",
    "Based on this, decide how the support team should respond. Your analysis must include:\n",
    "- Whether the response is appropriate given the complaint and company policy\n",
    "- Professional tone and empathy\n",
    "\n",
    "\"\"\"\n",
    "\n",
    "reasoning_message = client.messages.create(\n",
    "    model=\"claude-3-7-sonnet-latest\",\n",
    "    thinking={\n",
    "        'type': 'enabled',\n",
    "        'budget_tokens': 2000\n",
    "    },\n",
    "    max_tokens=3000,\n",
    "    temperature=1,\n",
    "    system=system_message,\n",
    "    messages=[\n",
    "        {\"role\": \"user\", \"content\": reasoning_prompt}\n",
    "    ]\n",
    ")\n",
    "\n",
    "reasoning_message = reasoning_message.content\n",
    "\n",
    "print(reasoning_message)\n"
   ]
  },
  {
   "cell_type": "code",
   "execution_count": 16,
   "metadata": {},
   "outputs": [],
   "source": [
    "#reasoning_message consists of two elements which are objects, so we use . to access the text\n",
    "reasoning_message = reasoning_message[1].text\n",
    "# len(reasoning_message)"
   ]
  },
  {
   "cell_type": "code",
   "execution_count": 17,
   "metadata": {},
   "outputs": [
    {
     "data": {
      "text/markdown": [
       "# Evaluation of Customer Service Response\n",
       "\n",
       "## Appropriateness of Response\n",
       "\n",
       "The customer service response is **appropriate and well-structured** given both the complaint and company policy for these reasons:\n",
       "\n",
       "- **Information gathering**: The agent correctly requests essential information (order number, purchase date, overcharge details) needed to verify the claim before proceeding.\n",
       "- **Policy transparency**: The 14-day refund window is clearly communicated upfront, preventing potential disappointment later.\n",
       "- **Solution-focused approach**: Rather than becoming defensive about the overcharge accusation, the agent moves directly to resolution steps.\n",
       "\n",
       "## Professional Tone and Empathy\n",
       "\n",
       "The response demonstrates strong professional communication:\n",
       "\n",
       "- **Acknowledgment**: \"I understand your concern\" validates the customer's frustration without admitting fault or making promises.\n",
       "- **Helpful attitude**: The agent expresses willingness to assist, positioning themselves as an ally rather than an obstacle.\n",
       "- **Balanced approach**: The tone strikes an appropriate balance between empathy and procedural requirements.\n",
       "- **De-escalation**: The response naturally de-escalates the demanding tone of the complaint by focusing on concrete next steps.\n",
       "\n",
       "## Areas for Consideration\n",
       "\n",
       "While the response is generally excellent, the agent might consider:\n",
       "\n",
       "- Mentioning the supervisor approval requirement for purchases over $100 if the agent can see that the order exceeds this amount\n",
       "- Including a brief apology for the inconvenience without admitting fault\n",
       "\n",
       "Overall, this is an effective response that adheres to company policy while maintaining a customer-centric approach."
      ],
      "text/plain": [
       "<IPython.core.display.Markdown object>"
      ]
     },
     "metadata": {},
     "output_type": "display_data"
    }
   ],
   "source": [
    "# reasoning_message = reasoning_message[1].text\n",
    "\n",
    "display(Markdown(reasoning_message))"
   ]
  },
  {
   "cell_type": "markdown",
   "metadata": {},
   "source": [
    "# **Your Challenge!!!**"
   ]
  },
  {
   "cell_type": "markdown",
   "metadata": {},
   "source": [
    "A customer has submitted a complaint. Based on company policy and the situation, the model must select the correct resolution option from a list, and give a 1-line justification."
   ]
  },
  {
   "cell_type": "code",
   "execution_count": 18,
   "metadata": {},
   "outputs": [],
   "source": [
    "complaint = \"I ordered a ceramic mug and received a broken one. Please fix this!\"\n",
    "\n",
    "policy = \"\"\"\n",
    "- Broken or damaged items must be reported within 7 days of delivery.\n",
    "- If reported in time, the item is replaced or refunded.\n",
    "- No action is taken for reports after 7 days unless escalated.\n",
    "\"\"\"\n",
    "\n",
    "metadata = \"\"\"\n",
    "    Reported Days After Delivery: 5\n",
    "    Item Value: $12\n",
    "    Customer Tier: Standard\n",
    "    Past Complaints: 0\n",
    "\"\"\"\n"
   ]
  },
  {
   "cell_type": "markdown",
   "metadata": {},
   "source": [
    "Build a customer support agent that could help solve this issue\n",
    "\n",
    "The agent should choose one of the following options:\n",
    "- Refund Item\n",
    "- Replace Item\n",
    "- Offer Discount\n",
    "- Apologize (no action)\n",
    "- Report to supervisor"
   ]
  },
  {
   "cell_type": "code",
   "execution_count": 19,
   "metadata": {},
   "outputs": [
    {
     "name": "stdout",
     "output_type": "stream",
     "text": [
      "Based on the complaint and metadata, I'll choose option 2: Replace Item.\n",
      "\n",
      "Explanation: The customer reported a broken ceramic mug within 5 days of delivery, which is within the 7-day reporting window specified by company policy. Since the damage was reported in time, the policy clearly states that the item should be replaced or refunded. A replacement is the most appropriate action since it directly addresses the customer's request to \"fix this\" and provides them with the product they originally ordered in proper condition.\n"
     ]
    }
   ],
   "source": [
    "system_message = \"You are a customer support agent.\"\n",
    "\n",
    "prompt = f\"\"\"You need to choose one of the following 5 actions based on the complaint {complaint}, company policy {policy}, and metadata {metadata}: \n",
    "1- Refund Item\n",
    "2- Replace Item\n",
    "3- Offer Discount\n",
    "4- Apologize (no action)\n",
    "5- Report to supervisor \n",
    "rovide a brief explanation for your choice.\"\"\"\n",
    "\n",
    "message = client.messages.create(\n",
    "    model=\"claude-3-7-sonnet-latest\",\n",
    "    system=system_message,\n",
    "    messages=[\n",
    "        {\"role\": \"user\", \"content\": prompt}\n",
    "    ],\n",
    "    max_tokens=500\n",
    ")\n",
    "print(message.content[0].text)  "
   ]
  },
  {
   "cell_type": "markdown",
   "metadata": {},
   "source": [
    "## **Reflections**\n",
    "\n",
    "1. What reasoning steps did the model take to select its resolution? Were they logical and aligned with company policy? (Hint: Have a look at the reasoning output)\n",
    "  It considered the policy before making a decision.\n",
    "2. If you were designing the agent, what would you change about its decision-making process?\n",
    "  Nothing.\n",
    "3. What did you learn about prompt design and reasoning models from this exercise?\n",
    "  Specify the role of the agent. Give as much context as possible for the prompt."
   ]
  }
 ],
 "metadata": {
  "kernelspec": {
   "display_name": "ai_env",
   "language": "python",
   "name": "python3"
  },
  "language_info": {
   "codemirror_mode": {
    "name": "ipython",
    "version": 3
   },
   "file_extension": ".py",
   "mimetype": "text/x-python",
   "name": "python",
   "nbconvert_exporter": "python",
   "pygments_lexer": "ipython3",
   "version": "3.12.3"
  }
 },
 "nbformat": 4,
 "nbformat_minor": 2
}
