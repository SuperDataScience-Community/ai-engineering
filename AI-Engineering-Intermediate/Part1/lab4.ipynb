{
 "cells": [
  {
   "cell_type": "markdown",
   "id": "8696980e",
   "metadata": {},
   "source": [
    "# Flight Agent: Your Travel Planner\n",
    "\n",
    "Time for an exciting use case. Now is the time to use all the knowledge we have gathered so far to build a complete AI Agent ourselves.\n",
    "\n",
    "## Plan of Attack:\n",
    "\n",
    "1. Import libraries\n",
    "2. Define our tools\n",
    "3. Define our tools schema\n",
    "4. Call the OpenAI Responses API\n",
    "5. Handle tool calls\n",
    "6. Chat logic\n",
    "7. Gradio Interface\n",
    "8. Deploy to Huggingface spaces"
   ]
  },
  {
   "cell_type": "markdown",
   "id": "d6a81668",
   "metadata": {},
   "source": [
    "## Step 1: Import libraries"
   ]
  },
  {
   "cell_type": "code",
   "execution_count": 1,
   "id": "6933b082",
   "metadata": {},
   "outputs": [],
   "source": [
    "import os\n",
    "from tavily import TavilyClient\n",
    "from dotenv import load_dotenv\n",
    "import json\n",
    "from openai import OpenAI\n",
    "from utils import function_to_tool\n",
    "from IPython.display import display, Markdown\n",
    "import gradio as gr\n",
    "\n",
    "load_dotenv()\n",
    "\n",
    "TAVILY_API_KEY = os.getenv(\"TAVILY_API_KEY\")\n",
    "if not TAVILY_API_KEY:\n",
    "    raise ValueError(\"TAVILY_API_KEY is not set in the environment variables.\")\n",
    "\n",
    "OPENAI_API_KEY = os.getenv(\"OPENAI_API_KEY\")\n",
    "if not OPENAI_API_KEY:\n",
    "    raise ValueError(\"OPENAI_API_KEY is not set in the environment variables.\")\n",
    "\n",
    "tavily_client = TavilyClient()\n",
    "openai_client = OpenAI()"
   ]
  },
  {
   "cell_type": "markdown",
   "id": "3d619380",
   "metadata": {},
   "source": [
    "## Step 2: Define our tools"
   ]
  },
  {
   "cell_type": "code",
   "execution_count": 2,
   "id": "1b353661",
   "metadata": {},
   "outputs": [
    {
     "name": "stdout",
     "output_type": "stream",
     "text": [
      "Search results: \n",
      " {\n",
      "  \"query\": \"I want to travel to Tokyo and Osaka tomorrow. What are the best flights available?\",\n",
      "  \"follow_up_questions\": null,\n",
      "  \"answer\": null,\n",
      "  \"images\": [],\n",
      "  \"results\": [\n",
      "    {\n",
      "      \"url\": \"https://www.expedia.com/Destinations-In-Japan.d89.Flight-Destinations\",\n",
      "      \"title\": \"$258 Cheap Flights & Airfare to Japan - Expedia.com\",\n",
      "      \"content\": \"How much is the cheapest flight to Japan? Prices were available within the past 7 days and start at $258 for one-way flights and $532 for round trip,\",\n",
      "      \"score\": 0.98571,\n",
      "      \"raw_content\": null\n",
      "    },\n",
      "    {\n",
      "      \"url\": \"https://www.expedia.com/Cheap-Flights-To-Tokyo.d179900.Travel-Guide-Flights\",\n",
      "      \"title\": \"Cheap Flights to Tokyo - Expedia\",\n",
      "      \"content\": \"The lowest price for round-trip flights to Tokyo in 2025 starts from from $532, while one-way tickets start from from $258.\",\n",
      "      \"score\": 0.98281,\n",
      "      \"raw_content\": null\n",
      "    },\n",
      "    {\n",
      "      \"url\": \"https://www.skyscanner.com/routes/osaa/nrt/osaka-to-tokyo-narita.html\",\n",
      "      \"title\": \"$35 Flights from Osaka (OSAA) to Tokyo (NRT) - Skyscanner\",\n",
      "      \"content\": \"Find the best deals on flights from Osaka (OSAA) to Tokyo Narita (NRT). Compare prices from hundreds of major travel agents and airlines, all in one search.\",\n",
      "      \"score\": 0.97705,\n",
      "      \"raw_content\": null\n",
      "    },\n",
      "    {\n",
      "      \"url\": \"https://www.expedia.com/Destinations-In-Kanagawa-Prefecture.d6048225.Flight-Destinations\",\n",
      "      \"title\": \"Cheap Flights to Kanagawa Prefecture from ... - Expedia\",\n",
      "      \"content\": \"How much is the cheapest flight to Kanagawa Prefecture? Prices were available within the past 7 days and start at $232 for one-way flights and $491 for\",\n",
      "      \"score\": 0.97517,\n",
      "      \"raw_content\": null\n",
      "    },\n",
      "    {\n",
      "      \"url\": \"https://www.skyscanner.com/routes/ngs/osaa/nagasaki-to-osaka.html\",\n",
      "      \"title\": \"Cheap Flights from Nagasaki (NGS) to Osaka (OSAA) - Skyscanner\",\n",
      "      \"content\": \"Find the best deals on flights from Nagasaki (NGS) to Osaka (OSAA). Compare prices from hundreds of major travel agents and airlines, all in one search.\",\n",
      "      \"score\": 0.96844,\n",
      "      \"raw_content\": null\n",
      "    }\n",
      "  ],\n",
      "  \"response_time\": 0.86,\n",
      "  \"request_id\": \"a88e2148-ab2b-4c07-8184-efe4081d4ef4\"\n",
      "}\n"
     ]
    }
   ],
   "source": [
    "# Flight search tool\n",
    "\n",
    "query = \"I want to travel to Tokyo and Osaka tomorrow. What are the best flights available?\"\n",
    "\n",
    "response = tavily_client.search(\n",
    "    query=query,\n",
    "    include_domains=['skyscanner.com', 'expedia.com', 'booking.com']\n",
    ")\n",
    "\n",
    "print(\"Search results: \\n\", json.dumps(response, indent=2))\n"
   ]
  },
  {
   "cell_type": "code",
   "execution_count": 2,
   "id": "cdd311a2",
   "metadata": {},
   "outputs": [],
   "source": [
    "# create a function\n",
    "def flight_search(query: str) -> list:\n",
    "    \"\"\"\n",
    "    Search for flights using the Tavily API.\n",
    "\n",
    "    Args:\n",
    "        query (str): The user's flight search query.\n",
    "\n",
    "    Returns:\n",
    "        list: The search results from the flight API.\n",
    "    \"\"\"\n",
    "    \n",
    "    response = tavily_client.search(\n",
    "        query=query,\n",
    "        include_domains=['skyscanner.com', 'expedia.com', 'booking.com']\n",
    "    )\n",
    "\n",
    "    results = []\n",
    "\n",
    "    for result in response[\"results\"]:\n",
    "        results.append(result[\"content\"])\n",
    "\n",
    "    return results"
   ]
  },
  {
   "cell_type": "code",
   "execution_count": 3,
   "id": "4cd7550a",
   "metadata": {},
   "outputs": [],
   "source": [
    "def hotel_search(query: str) -> list:\n",
    "    \"\"\"\n",
    "    Search for hotels using the Tavily API.\n",
    "\n",
    "    Args:\n",
    "        query (str): The user's hotel search query.\n",
    "\n",
    "    Returns:\n",
    "        list: The search results from the hotel API.\n",
    "    \"\"\"\n",
    "    response = tavily_client.search(\n",
    "        query=query,\n",
    "        include_domains=['booking.com', 'airbnb.com', 'hotels.com']\n",
    "    )\n",
    "\n",
    "    results = []\n",
    "\n",
    "    for result in response[\"results\"]:\n",
    "        results.append(result[\"content\"])\n",
    "\n",
    "    return results"
   ]
  },
  {
   "cell_type": "markdown",
   "id": "456d3f02",
   "metadata": {},
   "source": [
    "## Step 3: Define our tools schema"
   ]
  },
  {
   "cell_type": "code",
   "execution_count": 4,
   "id": "4248275d",
   "metadata": {},
   "outputs": [],
   "source": [
    "flight_tool_schema = function_to_tool(flight_search)"
   ]
  },
  {
   "cell_type": "code",
   "execution_count": 5,
   "id": "753ed1b7",
   "metadata": {},
   "outputs": [],
   "source": [
    "hotel_tool_schema = function_to_tool(hotel_search)"
   ]
  },
  {
   "cell_type": "code",
   "execution_count": 6,
   "id": "84d5dd56",
   "metadata": {},
   "outputs": [],
   "source": [
    "tools = [flight_tool_schema, hotel_tool_schema]"
   ]
  },
  {
   "cell_type": "code",
   "execution_count": 7,
   "id": "2289eb5e",
   "metadata": {},
   "outputs": [
    {
     "data": {
      "text/plain": [
       "{'type': 'function',\n",
       " 'name': 'flight_search',\n",
       " 'description': 'Search for flights using the Tavily API.',\n",
       " 'parameters': {'type': 'object',\n",
       "  'properties': {'query': {'type': 'string',\n",
       "    'description': \"The user's flight search query.\"}},\n",
       "  'required': ['query']}}"
      ]
     },
     "execution_count": 7,
     "metadata": {},
     "output_type": "execute_result"
    }
   ],
   "source": [
    "flight_tool_schema"
   ]
  },
  {
   "cell_type": "markdown",
   "id": "d68b134f",
   "metadata": {},
   "source": [
    "## Step 4: Call the OpenAI Responses API"
   ]
  },
  {
   "cell_type": "code",
   "execution_count": 8,
   "id": "702abd0b",
   "metadata": {},
   "outputs": [],
   "source": [
    "system_message = \"\"\"\n",
    "\n",
    "You are a helpful travel planner and your are to assist the user in planning their travel itinerary.\n",
    "\n",
    "You are to ask the user in a conversational manner about their travel plans and preferences, first start with their\n",
    "destination, wait for their response and then ask about the dates they plan to travel, and then search for the best flights available,\n",
    "build an itinerary based on their preferences and give them a summary of their travel plans.\n",
    "\n",
    "\n",
    "Eg.\n",
    "- Hello, I am your travel planner. Which country would you like to travel to?\n",
    "- I want to travel to Japan\n",
    "- What is your preferred destination in Japan?\n",
    "- Tokyo\n",
    "- Great! When do you plan to travel?\n",
    "- I plan to travel tomorrow.\n",
    "\n",
    "* use your search tool to search for flight deals *\n",
    "* Wait until you are provided with flight options *\n",
    "* use your search tool to search for hotel booking deals *\n",
    "* Wait until you are provided the results of the hotel search *\n",
    "* summarize results in a neatly formatted itinerary. *\n",
    "* provide the itinerary to the user *\n",
    "\n",
    "- Here is your travel itinerary for Japan:\n",
    "\n",
    "Remember to only provide the user with the results once you have information about the flights as well as the hotels.\n",
    "\"\"\""
   ]
  },
  {
   "cell_type": "code",
   "execution_count": 19,
   "id": "54ca3a6e",
   "metadata": {},
   "outputs": [],
   "source": [
    "def chat(input_list, tools):\n",
    "    response = openai_client.responses.create(\n",
    "        model=\"gpt-4o-mini\",\n",
    "        input=input_list,\n",
    "        tools=tools,\n",
    "        tool_choice=\"auto\",\n",
    "        parallel_tool_calls=False\n",
    "    )\n",
    "\n",
    "    if response.output[0].type == \"message\":\n",
    "        input_list.append({\"role\": \"assistant\", \"content\": response.output_text})\n",
    "    if response.output[0].type == \"function_call\":\n",
    "        input_list += response.output\n",
    "\n",
    "    return response"
   ]
  },
  {
   "cell_type": "code",
   "execution_count": 20,
   "id": "eec4a6a1",
   "metadata": {},
   "outputs": [],
   "source": [
    "input_list = [{\"role\": \"system\", \"content\": system_message}]"
   ]
  },
  {
   "cell_type": "code",
   "execution_count": 29,
   "id": "98efce69",
   "metadata": {},
   "outputs": [
    {
     "data": {
      "text/plain": [
       "[{'role': 'system',\n",
       "  'content': '\\n\\nYou are a helpful travel planner and your are to assist the user in planning their travel itinerary.\\n\\nYou are to ask the user in a conversational manner about their travel plans and preferences, first start with their\\ndestination, wait for their response and then ask about the dates they plan to travel, and then search for the best flights available,\\nbuild an itinerary based on their preferences and give them a summary of their travel plans.\\n\\n\\nEg.\\n- Hello, I am your travel planner. Which country would you like to travel to?\\n- I want to travel to Japan\\n- What is your preferred destination in Japan?\\n- Tokyo\\n- Great! When do you plan to travel?\\n- I plan to travel tomorrow.\\n\\n* use your search tool to search for flight deals *\\n* Wait until you are provided with flight options *\\n* use your search tool to search for hotel booking deals *\\n* Wait until you are provided the results of the hotel search *\\n* summarize results in a neatly formatted itinerary. *\\n* provide the itinerary to the user *\\n\\n- Here is your travel itinerary for Japan:\\n\\nRemember to only provide the user with the results once you have information about the flights as well as the hotels.\\n'},\n",
       " {'role': 'user', 'content': 'I want to travel to Japan'},\n",
       " {'role': 'assistant',\n",
       "  'content': 'Great choice! Japan is an amazing destination. Which city in Japan are you planning to visit?'},\n",
       " {'role': 'user', 'content': 'Tokyo'},\n",
       " {'role': 'assistant',\n",
       "  'content': 'Awesome! When do you plan to travel to Tokyo?'},\n",
       " {'role': 'user', 'content': 'Tomorrow'},\n",
       " ResponseFunctionToolCall(arguments='{\"query\":\"flights to Tokyo tomorrow\"}', call_id='call_CRZlnJ6o8io91SZ1yKAfrpaK', name='flight_search', type='function_call', id='fc_68ac13e20b2481a196d8bb5b9f5d506000ddf42853264a78', status='completed')]"
      ]
     },
     "execution_count": 29,
     "metadata": {},
     "output_type": "execute_result"
    }
   ],
   "source": [
    "input_list"
   ]
  },
  {
   "cell_type": "code",
   "execution_count": 28,
   "id": "e49aa244",
   "metadata": {},
   "outputs": [
    {
     "name": "stdout",
     "output_type": "stream",
     "text": [
      "[ResponseFunctionToolCall(arguments='{\"query\":\"flights to Tokyo tomorrow\"}', call_id='call_CRZlnJ6o8io91SZ1yKAfrpaK', name='flight_search', type='function_call', id='fc_68ac13e20b2481a196d8bb5b9f5d506000ddf42853264a78', status='completed')]\n"
     ]
    }
   ],
   "source": [
    "user_message = \"Tomorrow\"\n",
    "input_list.append({\"role\": \"user\", \"content\": user_message})\n",
    "\n",
    "response = chat(input_list, tools)\n",
    "\n",
    "print(response.output)"
   ]
  },
  {
   "cell_type": "markdown",
   "id": "50fe86ea",
   "metadata": {},
   "source": [
    "## Step 5: Handle tools calls"
   ]
  },
  {
   "cell_type": "code",
   "execution_count": 30,
   "id": "6d5c6b86",
   "metadata": {},
   "outputs": [],
   "source": [
    "# grab the function name and arguments from LLM response\n",
    "\n",
    "name = response.output[0].name\n",
    "args = json.loads(response.output[0].arguments)"
   ]
  },
  {
   "cell_type": "code",
   "execution_count": 31,
   "id": "47e0ddf3",
   "metadata": {},
   "outputs": [
    {
     "name": "stdout",
     "output_type": "stream",
     "text": [
      "Name of function:  flight_search\n",
      "Arguments:  {'query': 'flights to Tokyo tomorrow'}\n"
     ]
    }
   ],
   "source": [
    "print(\"Name of function: \", name)\n",
    "print(\"Arguments: \", args)"
   ]
  },
  {
   "cell_type": "code",
   "execution_count": 19,
   "id": "ef085f67",
   "metadata": {},
   "outputs": [],
   "source": [
    "# call the function\n",
    "def call_function(name, args):\n",
    "    if name == \"flight_search\":\n",
    "        return flight_search(**args)\n",
    "    if name == \"hotel_search\":\n",
    "        return hotel_search(**args)"
   ]
  },
  {
   "cell_type": "code",
   "execution_count": 34,
   "id": "2632cdf9",
   "metadata": {},
   "outputs": [],
   "source": [
    "results = call_function(name, args)"
   ]
  },
  {
   "cell_type": "code",
   "execution_count": 35,
   "id": "18151ede",
   "metadata": {},
   "outputs": [],
   "source": [
    "# transform the response to message list format\n",
    "input_list.append({\n",
    "    \"type\": \"function_call_output\",\n",
    "    \"call_id\": response.output[0].call_id,\n",
    "    \"output\": str(results)\n",
    "})"
   ]
  },
  {
   "cell_type": "code",
   "execution_count": 36,
   "id": "dc3c355a",
   "metadata": {},
   "outputs": [
    {
     "data": {
      "text/plain": [
       "[{'role': 'system',\n",
       "  'content': '\\n\\nYou are a helpful travel planner and your are to assist the user in planning their travel itinerary.\\n\\nYou are to ask the user in a conversational manner about their travel plans and preferences, first start with their\\ndestination, wait for their response and then ask about the dates they plan to travel, and then search for the best flights available,\\nbuild an itinerary based on their preferences and give them a summary of their travel plans.\\n\\n\\nEg.\\n- Hello, I am your travel planner. Which country would you like to travel to?\\n- I want to travel to Japan\\n- What is your preferred destination in Japan?\\n- Tokyo\\n- Great! When do you plan to travel?\\n- I plan to travel tomorrow.\\n\\n* use your search tool to search for flight deals *\\n* Wait until you are provided with flight options *\\n* use your search tool to search for hotel booking deals *\\n* Wait until you are provided the results of the hotel search *\\n* summarize results in a neatly formatted itinerary. *\\n* provide the itinerary to the user *\\n\\n- Here is your travel itinerary for Japan:\\n\\nRemember to only provide the user with the results once you have information about the flights as well as the hotels.\\n'},\n",
       " {'role': 'user', 'content': 'I want to travel to Japan'},\n",
       " {'role': 'assistant',\n",
       "  'content': 'Great choice! Japan is an amazing destination. Which city in Japan are you planning to visit?'},\n",
       " {'role': 'user', 'content': 'Tokyo'},\n",
       " {'role': 'assistant',\n",
       "  'content': 'Awesome! When do you plan to travel to Tokyo?'},\n",
       " {'role': 'user', 'content': 'Tomorrow'},\n",
       " ResponseFunctionToolCall(arguments='{\"query\":\"flights to Tokyo tomorrow\"}', call_id='call_CRZlnJ6o8io91SZ1yKAfrpaK', name='flight_search', type='function_call', id='fc_68ac13e20b2481a196d8bb5b9f5d506000ddf42853264a78', status='completed'),\n",
       " {'type': 'function_call_output',\n",
       "  'call_id': 'call_CRZlnJ6o8io91SZ1yKAfrpaK',\n",
       "  'output': \"['The lowest price for round-trip flights to Tokyo in 2025 starts from from $532, while one-way tickets start from from $258.', 'Cheap Flights from Los Angeles (LAX) to Tokyo (NRT) start at $258 for one-way and $532 for round trip. Earn your airline miles on top of our rewards!', 'Compare United flights to Tokyo now. Find flight deals, the easiest route or the cheapest time to fly, all with no added fees.', 'Cheap Flights from New York (JFK) to Tokyo (NRT) start at $432 for one-way and $799 for round trip. Earn your airline miles on top of our rewards!', 'How much is the cheapest flight to Japan? Prices were available within the past 7 days and start at $258 for one-way flights and $532 for round trip,']\"}]"
      ]
     },
     "execution_count": 36,
     "metadata": {},
     "output_type": "execute_result"
    }
   ],
   "source": [
    "input_list"
   ]
  },
  {
   "cell_type": "code",
   "execution_count": 37,
   "id": "c30367b9",
   "metadata": {},
   "outputs": [
    {
     "name": "stdout",
     "output_type": "stream",
     "text": [
      "[ResponseOutputMessage(id='msg_68ac1d3a202481a1a44f4509e8bbe45100ddf42853264a78', content=[ResponseOutputText(annotations=[], text=\"I found some flight options for you! Here are the details:\\n\\n### Flights to Tokyo\\n- **From Los Angeles (LAX)**: \\n  - One-way: Starting at **$258**\\n  - Round-trip: Starting at **$532**\\n\\n- **From New York (JFK)**: \\n  - One-way: Starting at **$432**\\n  - Round-trip: Starting at **$799**\\n\\nNow, let's find accommodation for your stay in Tokyo. How many nights will you be staying?\", type='output_text', logprobs=[])], role='assistant', status='completed', type='message')]\n"
     ]
    }
   ],
   "source": [
    "# provide update message list to LLM\n",
    "\n",
    "response = chat(input_list, tools)\n",
    "print(response.output)"
   ]
  },
  {
   "cell_type": "code",
   "execution_count": 38,
   "id": "5c198c55",
   "metadata": {},
   "outputs": [
    {
     "data": {
      "text/markdown": [
       "I found some flight options for you! Here are the details:\n",
       "\n",
       "### Flights to Tokyo\n",
       "- **From Los Angeles (LAX)**: \n",
       "  - One-way: Starting at **$258**\n",
       "  - Round-trip: Starting at **$532**\n",
       "\n",
       "- **From New York (JFK)**: \n",
       "  - One-way: Starting at **$432**\n",
       "  - Round-trip: Starting at **$799**\n",
       "\n",
       "Now, let's find accommodation for your stay in Tokyo. How many nights will you be staying?"
      ],
      "text/plain": [
       "<IPython.core.display.Markdown object>"
      ]
     },
     "metadata": {},
     "output_type": "display_data"
    }
   ],
   "source": [
    "display(Markdown(response.output_text))"
   ]
  },
  {
   "cell_type": "markdown",
   "id": "25ca8ee2",
   "metadata": {},
   "source": [
    "## Step 6: Gradio UI"
   ]
  },
  {
   "cell_type": "code",
   "execution_count": 9,
   "id": "fa49a66c",
   "metadata": {},
   "outputs": [],
   "source": [
    "def get_response(input_list, tools):\n",
    "    response = openai_client.responses.create(\n",
    "        model=\"gpt-4o-mini\",\n",
    "        input=input_list,\n",
    "        tools=tools,\n",
    "        tool_choice=\"auto\",\n",
    "        parallel_tool_calls=False\n",
    "    )\n",
    "    return response"
   ]
  },
  {
   "cell_type": "code",
   "execution_count": 14,
   "id": "6f37eacd",
   "metadata": {},
   "outputs": [],
   "source": [
    "def clean_history(history):\n",
    "    return [\n",
    "        {\"role\": msg[\"role\"], \"content\": msg[\"content\"]}\n",
    "        for msg in history\n",
    "        if \"role\" in msg and \"content\" in msg\n",
    "    ]"
   ]
  },
  {
   "cell_type": "code",
   "execution_count": 17,
   "id": "f840d5c3",
   "metadata": {},
   "outputs": [],
   "source": [
    "def chat(message, history):\n",
    "\n",
    "    history = clean_history(history)\n",
    "\n",
    "    input_list = [{\"role\": \"system\", \"content\": system_message}] + history + [{\"role\": \"user\", \"content\": message}]\n",
    "    # print(input_list)\n",
    "    response = get_response(input_list, tools)\n",
    "\n",
    "    if response.output[0].type == \"function_call\":\n",
    "        while response.output[0].type == \"function_call\":\n",
    "            input_list += response.output\n",
    "\n",
    "            name = response.output[0].name\n",
    "            args = json.loads(response.output[0].arguments)\n",
    "\n",
    "            results = call_function(name, args)\n",
    "\n",
    "            input_list.append({\n",
    "                \"type\": \"function_call_output\",\n",
    "                \"call_id\": response.output[0].call_id,\n",
    "                \"output\": str(results)\n",
    "            })\n",
    "\n",
    "            response = get_response(input_list, tools)\n",
    "\n",
    "    return response.output_text"
   ]
  },
  {
   "cell_type": "code",
   "execution_count": 20,
   "id": "cf58efdb",
   "metadata": {},
   "outputs": [
    {
     "name": "stdout",
     "output_type": "stream",
     "text": [
      "* Running on local URL:  http://127.0.0.1:7864\n",
      "* To create a public link, set `share=True` in `launch()`.\n"
     ]
    },
    {
     "data": {
      "text/html": [
       "<div><iframe src=\"http://127.0.0.1:7864/\" width=\"100%\" height=\"500\" allow=\"autoplay; camera; microphone; clipboard-read; clipboard-write;\" frameborder=\"0\" allowfullscreen></iframe></div>"
      ],
      "text/plain": [
       "<IPython.core.display.HTML object>"
      ]
     },
     "metadata": {},
     "output_type": "display_data"
    }
   ],
   "source": [
    "view = gr.ChatInterface(fn=chat, type=\"messages\").launch()"
   ]
  }
 ],
 "metadata": {
  "kernelspec": {
   "display_name": "ai_env",
   "language": "python",
   "name": "python3"
  },
  "language_info": {
   "codemirror_mode": {
    "name": "ipython",
    "version": 3
   },
   "file_extension": ".py",
   "mimetype": "text/x-python",
   "name": "python",
   "nbconvert_exporter": "python",
   "pygments_lexer": "ipython3",
   "version": "3.12.3"
  }
 },
 "nbformat": 4,
 "nbformat_minor": 5
}
